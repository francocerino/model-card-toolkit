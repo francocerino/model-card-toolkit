{
  "cells": [
    {
      "cell_type": "markdown",
      "metadata": {
        "id": "view-in-github",
        "colab_type": "text"
      },
      "source": [
        "<a href=\"https://colab.research.google.com/github/francocerino/model-card-toolkit/blob/main/model_card_toolkit/documentation/examples/Scikit_Learn_Model_Card_Toolkit_Demo.ipynb\" target=\"_parent\"><img src=\"https://colab.research.google.com/assets/colab-badge.svg\" alt=\"Open In Colab\"/></a>"
      ]
    },
    {
      "cell_type": "markdown",
      "metadata": {
        "id": "Tce3stUlHN0L"
      },
      "source": [
        "##### Copyright 2020 The TensorFlow Authors."
      ]
    },
    {
      "cell_type": "code",
      "execution_count": 1,
      "metadata": {
        "cellView": "form",
        "id": "tuOe1ymfHZPu"
      },
      "outputs": [],
      "source": [
        "#@title Licensed under the Apache License, Version 2.0 (the \"License\");\n",
        "# you may not use this file except in compliance with the License.\n",
        "# You may obtain a copy of the License at\n",
        "#\n",
        "# https://www.apache.org/licenses/LICENSE-2.0\n",
        "#\n",
        "# Unless required by applicable law or agreed to in writing, software\n",
        "# distributed under the License is distributed on an \"AS IS\" BASIS,\n",
        "# WITHOUT WARRANTIES OR CONDITIONS OF ANY KIND, either express or implied.\n",
        "# See the License for the specific language governing permissions and\n",
        "# limitations under the License."
      ]
    },
    {
      "cell_type": "markdown",
      "metadata": {
        "id": "23R0Z9RojXYW"
      },
      "source": [
        "# Scikit-Learn Model Card Toolkit Demo\n"
      ]
    },
    {
      "cell_type": "markdown",
      "metadata": {
        "id": "MfBg1C5NB3X0"
      },
      "source": [
        "<table class=\"tfo-notebook-buttons\" align=\"left\">\n",
        "  <td>\n",
        "    <a target=\"_blank\" href=\"https://www.tensorflow.org/responsible_ai/model_card_toolkit/examples/Scikit_Learn_Model_Card_Toolkit_Demo\"><img src=\"https://www.tensorflow.org/images/tf_logo_32px.png\" />View on TensorFlow.org</a>\n",
        "  </td>\n",
        "  <td>\n",
        "    <a target=\"_blank\" href=\"https://colab.research.google.com/github/tensorflow/model-card-toolkit/blob/main/model_card_toolkit/documentation/examples/Scikit_Learn_Model_Card_Toolkit_Demo.ipynb\"><img src=\"https://www.tensorflow.org/images/colab_logo_32px.png\" />Run in Google Colab</a>\n",
        "  </td>\n",
        "  <td>\n",
        "    <a target=\"_blank\" href=\"https://github.com/tensorflow/model-card-toolkit/blob/main/model_card_toolkit/documentation/examples/Scikit_Learn_Model_Card_Toolkit_Demo.ipynb\"><img src=\"https://www.tensorflow.org/images/GitHub-Mark-32px.png\" />View on GitHub</a>\n",
        "  </td>\n",
        "  <td>\n",
        "    <a href=\"https://storage.googleapis.com/tensorflow_docs/model-card-toolkit/model_card_toolkit/documentation/examples/Scikit_Learn_Model_Card_Toolkit_Demo.ipynb\"><img src=\"https://www.tensorflow.org/images/download_logo_32px.png\" />Download notebook</a>\n",
        "  </td>\n",
        "</table>"
      ]
    },
    {
      "cell_type": "markdown",
      "metadata": {
        "id": "A5epNF_aiYj0"
      },
      "source": [
        "## Background\n",
        "This notebook demonstrates how to generate a model card using the Model Card Toolkit with a scikit-learn model in a Jupyter/Colab environment. You can learn more about model cards at [https://modelcards.withgoogle.com/about](https://modelcards.withgoogle.com/about).\n",
        "\n",
        "## Setup\n",
        "We first need to install and import the necessary packages.\n",
        "\n",
        "### Upgrade Pip and Install Packages"
      ]
    },
    {
      "cell_type": "code",
      "execution_count": null,
      "metadata": {
        "id": "1OiOQJDPiYj3",
        "outputId": "4192c890-c0a0-406d-9d1d-6c115b23a3bb",
        "colab": {
          "base_uri": "https://localhost:8080/"
        }
      },
      "outputs": [
        {
          "output_type": "stream",
          "name": "stdout",
          "text": [
            "Requirement already satisfied: pip in /usr/local/lib/python3.11/dist-packages (24.1.2)\n",
            "Collecting pip\n",
            "  Downloading pip-25.1.1-py3-none-any.whl.metadata (3.6 kB)\n",
            "Downloading pip-25.1.1-py3-none-any.whl (1.8 MB)\n",
            "\u001b[2K   \u001b[90m━━━━━━━━━━━━━━━━━━━━━━━━━━━━━━━━━━━━━━━━\u001b[0m \u001b[32m1.8/1.8 MB\u001b[0m \u001b[31m14.6 MB/s\u001b[0m eta \u001b[36m0:00:00\u001b[0m\n",
            "\u001b[?25hInstalling collected packages: pip\n",
            "  Attempting uninstall: pip\n",
            "    Found existing installation: pip 24.1.2\n",
            "    Uninstalling pip-24.1.2:\n",
            "      Successfully uninstalled pip-24.1.2\n",
            "Successfully installed pip-25.1.1\n",
            "Requirement already satisfied: seaborn in /usr/local/lib/python3.11/dist-packages (0.13.2)\n",
            "Requirement already satisfied: scikit-learn>=0.22.0 in /usr/local/lib/python3.11/dist-packages (1.6.1)\n",
            "Collecting scikit-learn>=0.22.0\n",
            "  Downloading scikit_learn-1.7.0-cp311-cp311-manylinux_2_17_x86_64.manylinux2014_x86_64.whl.metadata (17 kB)\n",
            "Collecting model-card-toolkit\n",
            "  Downloading model_card_toolkit-2.0.0-py3-none-any.whl.metadata (4.4 kB)\n",
            "Requirement already satisfied: numpy!=1.24.0,>=1.20 in /usr/local/lib/python3.11/dist-packages (from seaborn) (2.0.2)\n",
            "Requirement already satisfied: pandas>=1.2 in /usr/local/lib/python3.11/dist-packages (from seaborn) (2.2.2)\n",
            "Requirement already satisfied: matplotlib!=3.6.1,>=3.4 in /usr/local/lib/python3.11/dist-packages (from seaborn) (3.10.0)\n",
            "Requirement already satisfied: scipy>=1.8.0 in /usr/local/lib/python3.11/dist-packages (from scikit-learn>=0.22.0) (1.15.3)\n",
            "Requirement already satisfied: joblib>=1.2.0 in /usr/local/lib/python3.11/dist-packages (from scikit-learn>=0.22.0) (1.5.1)\n",
            "Requirement already satisfied: threadpoolctl>=3.1.0 in /usr/local/lib/python3.11/dist-packages (from scikit-learn>=0.22.0) (3.6.0)\n",
            "Collecting absl-py<1.1,>=0.9 (from model-card-toolkit)\n",
            "  Downloading absl_py-1.0.0-py3-none-any.whl.metadata (2.3 kB)\n",
            "Requirement already satisfied: jinja2<3.2,>=3.1 in /usr/local/lib/python3.11/dist-packages (from model-card-toolkit) (3.1.6)\n",
            "Collecting jsonschema<4,>=3.2.0 (from model-card-toolkit)\n",
            "  Downloading jsonschema-3.2.0-py2.py3-none-any.whl.metadata (7.8 kB)\n",
            "Collecting tensorflow-data-validation<2.0.0,>=1.5.0 (from model-card-toolkit)\n",
            "  Downloading tensorflow_data_validation-1.16.1-cp311-cp311-manylinux_2_17_x86_64.manylinux2014_x86_64.whl.metadata (19 kB)\n",
            "Collecting tensorflow-model-analysis<0.42.0,>=0.36.0 (from model-card-toolkit)\n",
            "  Downloading tensorflow_model_analysis-0.41.1-py3-none-any.whl.metadata (19 kB)\n",
            "Requirement already satisfied: tensorflow-metadata<2.0.0,>=1.5.0 in /usr/local/lib/python3.11/dist-packages (from model-card-toolkit) (1.17.1)\n",
            "Collecting ml-metadata<2.0.0,>=1.5.0 (from model-card-toolkit)\n",
            "  Downloading ml_metadata-1.17.0-cp311-cp311-manylinux_2_17_x86_64.manylinux2014_x86_64.whl.metadata (5.4 kB)\n",
            "Requirement already satisfied: six in /usr/local/lib/python3.11/dist-packages (from absl-py<1.1,>=0.9->model-card-toolkit) (1.17.0)\n",
            "Requirement already satisfied: MarkupSafe>=2.0 in /usr/local/lib/python3.11/dist-packages (from jinja2<3.2,>=3.1->model-card-toolkit) (3.0.2)\n",
            "Requirement already satisfied: attrs>=17.4.0 in /usr/local/lib/python3.11/dist-packages (from jsonschema<4,>=3.2.0->model-card-toolkit) (25.3.0)\n",
            "Collecting pyrsistent>=0.14.0 (from jsonschema<4,>=3.2.0->model-card-toolkit)\n",
            "  Downloading pyrsistent-0.20.0-cp311-cp311-manylinux_2_17_x86_64.manylinux2014_x86_64.whl.metadata (27 kB)\n",
            "Requirement already satisfied: setuptools in /usr/local/lib/python3.11/dist-packages (from jsonschema<4,>=3.2.0->model-card-toolkit) (75.2.0)\n",
            "Requirement already satisfied: contourpy>=1.0.1 in /usr/local/lib/python3.11/dist-packages (from matplotlib!=3.6.1,>=3.4->seaborn) (1.3.2)\n",
            "Requirement already satisfied: cycler>=0.10 in /usr/local/lib/python3.11/dist-packages (from matplotlib!=3.6.1,>=3.4->seaborn) (0.12.1)\n",
            "Requirement already satisfied: fonttools>=4.22.0 in /usr/local/lib/python3.11/dist-packages (from matplotlib!=3.6.1,>=3.4->seaborn) (4.58.1)\n",
            "Requirement already satisfied: kiwisolver>=1.3.1 in /usr/local/lib/python3.11/dist-packages (from matplotlib!=3.6.1,>=3.4->seaborn) (1.4.8)\n",
            "Requirement already satisfied: packaging>=20.0 in /usr/local/lib/python3.11/dist-packages (from matplotlib!=3.6.1,>=3.4->seaborn) (24.2)\n",
            "Requirement already satisfied: pillow>=8 in /usr/local/lib/python3.11/dist-packages (from matplotlib!=3.6.1,>=3.4->seaborn) (11.2.1)\n",
            "Requirement already satisfied: pyparsing>=2.3.1 in /usr/local/lib/python3.11/dist-packages (from matplotlib!=3.6.1,>=3.4->seaborn) (3.2.3)\n",
            "Requirement already satisfied: python-dateutil>=2.7 in /usr/local/lib/python3.11/dist-packages (from matplotlib!=3.6.1,>=3.4->seaborn) (2.9.0.post0)\n",
            "Collecting attrs>=17.4.0 (from jsonschema<4,>=3.2.0->model-card-toolkit)\n",
            "  Downloading attrs-23.2.0-py3-none-any.whl.metadata (9.5 kB)\n",
            "Requirement already satisfied: grpcio<2,>=1.8.6 in /usr/local/lib/python3.11/dist-packages (from ml-metadata<2.0.0,>=1.5.0->model-card-toolkit) (1.72.1)\n",
            "Collecting protobuf<5,>=4.25.2 (from ml-metadata<2.0.0,>=1.5.0->model-card-toolkit)\n",
            "  Downloading protobuf-4.25.8-cp37-abi3-manylinux2014_x86_64.whl.metadata (541 bytes)\n",
            "Collecting pandas>=1.2 (from seaborn)\n",
            "  Downloading pandas-1.5.3-cp311-cp311-manylinux_2_17_x86_64.manylinux2014_x86_64.whl.metadata (11 kB)\n",
            "Collecting pyarrow<11,>=10 (from tensorflow-data-validation<2.0.0,>=1.5.0->model-card-toolkit)\n",
            "  Downloading pyarrow-10.0.1-cp311-cp311-manylinux_2_17_x86_64.manylinux2014_x86_64.whl.metadata (3.0 kB)\n",
            "Collecting pyfarmhash<0.4,>=0.2.2 (from tensorflow-data-validation<2.0.0,>=1.5.0->model-card-toolkit)\n",
            "  Downloading pyfarmhash-0.3.2.tar.gz (99 kB)\n",
            "  Preparing metadata (setup.py) ... \u001b[?25l\u001b[?25hdone\n",
            "Collecting tensorflow<2.17,>=2.16 (from tensorflow-data-validation<2.0.0,>=1.5.0->model-card-toolkit)\n",
            "  Downloading tensorflow-2.16.2-cp311-cp311-manylinux_2_17_x86_64.manylinux2014_x86_64.whl.metadata (4.2 kB)\n",
            "Collecting tensorflow-metadata<2.0.0,>=1.5.0 (from model-card-toolkit)\n",
            "  Downloading tensorflow_metadata-1.16.1-py3-none-any.whl.metadata (2.4 kB)\n",
            "Collecting tfx-bsl<1.17,>=1.16.0 (from tensorflow-data-validation<2.0.0,>=1.5.0->model-card-toolkit)\n",
            "  Downloading tfx_bsl-1.16.1-cp311-cp311-manylinux_2_17_x86_64.manylinux2014_x86_64.whl.metadata (11 kB)\n",
            "Collecting apache-beam<3,>=2.53 (from apache-beam[gcp]<3,>=2.53; python_version >= \"3.11\"->tensorflow-data-validation<2.0.0,>=1.5.0->model-card-toolkit)\n",
            "  Downloading apache_beam-2.65.0-cp311-cp311-manylinux_2_17_x86_64.manylinux2014_x86_64.whl.metadata (9.5 kB)\n",
            "Collecting crcmod<2.0,>=1.7 (from apache-beam<3,>=2.53->apache-beam[gcp]<3,>=2.53; python_version >= \"3.11\"->tensorflow-data-validation<2.0.0,>=1.5.0->model-card-toolkit)\n",
            "  Downloading crcmod-1.7.tar.gz (89 kB)\n",
            "  Preparing metadata (setup.py) ... \u001b[?25l\u001b[?25hdone\n",
            "Requirement already satisfied: orjson<4,>=3.9.7 in /usr/local/lib/python3.11/dist-packages (from apache-beam<3,>=2.53->apache-beam[gcp]<3,>=2.53; python_version >= \"3.11\"->tensorflow-data-validation<2.0.0,>=1.5.0->model-card-toolkit) (3.10.18)\n",
            "Collecting dill<0.3.2,>=0.3.1.1 (from apache-beam<3,>=2.53->apache-beam[gcp]<3,>=2.53; python_version >= \"3.11\"->tensorflow-data-validation<2.0.0,>=1.5.0->model-card-toolkit)\n",
            "  Downloading dill-0.3.1.1.tar.gz (151 kB)\n",
            "  Preparing metadata (setup.py) ... \u001b[?25l\u001b[?25hdone\n",
            "Collecting fastavro<2,>=0.23.6 (from apache-beam<3,>=2.53->apache-beam[gcp]<3,>=2.53; python_version >= \"3.11\"->tensorflow-data-validation<2.0.0,>=1.5.0->model-card-toolkit)\n",
            "  Downloading fastavro-1.11.1-cp311-cp311-manylinux_2_17_x86_64.manylinux2014_x86_64.whl.metadata (5.7 kB)\n",
            "Collecting fasteners<1.0,>=0.3 (from apache-beam<3,>=2.53->apache-beam[gcp]<3,>=2.53; python_version >= \"3.11\"->tensorflow-data-validation<2.0.0,>=1.5.0->model-card-toolkit)\n",
            "  Downloading fasteners-0.19-py3-none-any.whl.metadata (4.9 kB)\n",
            "Collecting grpcio<2,>=1.8.6 (from ml-metadata<2.0.0,>=1.5.0->model-card-toolkit)\n",
            "  Downloading grpcio-1.65.5-cp311-cp311-manylinux_2_17_x86_64.manylinux2014_x86_64.whl.metadata (3.3 kB)\n",
            "Collecting hdfs<3.0.0,>=2.1.0 (from apache-beam<3,>=2.53->apache-beam[gcp]<3,>=2.53; python_version >= \"3.11\"->tensorflow-data-validation<2.0.0,>=1.5.0->model-card-toolkit)\n",
            "  Downloading hdfs-2.7.3.tar.gz (43 kB)\n",
            "  Preparing metadata (setup.py) ... \u001b[?25l\u001b[?25hdone\n",
            "Requirement already satisfied: httplib2<0.23.0,>=0.8 in /usr/local/lib/python3.11/dist-packages (from apache-beam<3,>=2.53->apache-beam[gcp]<3,>=2.53; python_version >= \"3.11\"->tensorflow-data-validation<2.0.0,>=1.5.0->model-card-toolkit) (0.22.0)\n",
            "INFO: pip is looking at multiple versions of apache-beam to determine which version is compatible with other requirements. This could take a while.\n",
            "Collecting apache-beam<3,>=2.53 (from apache-beam[gcp]<3,>=2.53; python_version >= \"3.11\"->tensorflow-data-validation<2.0.0,>=1.5.0->model-card-toolkit)\n",
            "  Downloading apache_beam-2.64.0-cp311-cp311-manylinux_2_17_x86_64.manylinux2014_x86_64.whl.metadata (9.4 kB)\n",
            "Collecting cloudpickle~=2.2.1 (from apache-beam<3,>=2.53->apache-beam[gcp]<3,>=2.53; python_version >= \"3.11\"->tensorflow-data-validation<2.0.0,>=1.5.0->model-card-toolkit)\n",
            "  Downloading cloudpickle-2.2.1-py3-none-any.whl.metadata (6.9 kB)\n",
            "Collecting apache-beam<3,>=2.53 (from apache-beam[gcp]<3,>=2.53; python_version >= \"3.11\"->tensorflow-data-validation<2.0.0,>=1.5.0->model-card-toolkit)\n",
            "  Downloading apache_beam-2.63.0-cp311-cp311-manylinux_2_17_x86_64.manylinux2014_x86_64.whl.metadata (9.3 kB)\n",
            "  Downloading apache_beam-2.62.0-cp311-cp311-manylinux_2_17_x86_64.manylinux2014_x86_64.whl.metadata (8.2 kB)\n",
            "  Downloading apache_beam-2.61.0-cp311-cp311-manylinux_2_17_x86_64.manylinux2014_x86_64.whl.metadata (7.4 kB)\n",
            "  Downloading apache_beam-2.60.0-cp311-cp311-manylinux_2_17_x86_64.manylinux2014_x86_64.whl.metadata (7.6 kB)\n",
            "  Downloading apache_beam-2.59.0-cp311-cp311-manylinux_2_17_x86_64.manylinux2014_x86_64.whl.metadata (7.5 kB)\n",
            "  Downloading apache_beam-2.58.1-cp311-cp311-manylinux_2_17_x86_64.manylinux2014_x86_64.whl.metadata (7.5 kB)\n",
            "INFO: pip is still looking at multiple versions of apache-beam to determine which version is compatible with other requirements. This could take a while.\n",
            "  Downloading apache_beam-2.58.0-cp311-cp311-manylinux_2_17_x86_64.manylinux2014_x86_64.whl.metadata (7.7 kB)\n",
            "  Downloading apache_beam-2.57.0-cp311-cp311-manylinux_2_17_x86_64.manylinux2014_x86_64.whl.metadata (7.6 kB)\n",
            "  Downloading apache_beam-2.56.0-cp311-cp311-manylinux_2_17_x86_64.manylinux2014_x86_64.whl.metadata (6.7 kB)\n",
            "  Downloading apache_beam-2.55.1-cp311-cp311-manylinux_2_17_x86_64.manylinux2014_x86_64.whl.metadata (6.6 kB)\n",
            "Collecting js2py<1,>=0.74 (from apache-beam<3,>=2.53->apache-beam[gcp]<3,>=2.53; python_version >= \"3.11\"->tensorflow-data-validation<2.0.0,>=1.5.0->model-card-toolkit)\n",
            "  Downloading Js2Py-0.74-py3-none-any.whl.metadata (868 bytes)\n",
            "Collecting apache-beam<3,>=2.53 (from apache-beam[gcp]<3,>=2.53; python_version >= \"3.11\"->tensorflow-data-validation<2.0.0,>=1.5.0->model-card-toolkit)\n",
            "  Downloading apache_beam-2.55.0-cp311-cp311-manylinux_2_17_x86_64.manylinux2014_x86_64.whl.metadata (6.6 kB)\n",
            "INFO: This is taking longer than usual. You might need to provide the dependency resolver with stricter constraints to reduce runtime. See https://pip.pypa.io/warnings/backtracking for guidance. If you want to abort this run, press Ctrl + C.\n",
            "  Downloading apache_beam-2.54.0-cp311-cp311-manylinux_2_17_x86_64.manylinux2014_x86_64.whl.metadata (6.6 kB)\n",
            "  Downloading apache_beam-2.53.0-cp311-cp311-manylinux_2_17_x86_64.manylinux2014_x86_64.whl.metadata (6.6 kB)\n",
            "Collecting tensorflow-data-validation<2.0.0,>=1.5.0 (from model-card-toolkit)\n",
            "  Downloading tensorflow_data_validation-1.16.0-cp311-cp311-manylinux_2_17_x86_64.manylinux2014_x86_64.whl.metadata (19 kB)\n",
            "  Downloading tensorflow_data_validation-1.15.1-cp311-cp311-manylinux_2_17_x86_64.manylinux2014_x86_64.whl.metadata (18 kB)\n",
            "Collecting tensorflow<2.16,>=2.15 (from tensorflow-data-validation<2.0.0,>=1.5.0->model-card-toolkit)\n",
            "  Downloading tensorflow-2.15.1-cp311-cp311-manylinux_2_17_x86_64.manylinux2014_x86_64.whl.metadata (4.2 kB)\n",
            "Collecting tensorflow-metadata<2.0.0,>=1.5.0 (from model-card-toolkit)\n",
            "  Downloading tensorflow_metadata-1.15.0-py3-none-any.whl.metadata (2.4 kB)\n",
            "Collecting tfx-bsl<1.16,>=1.15.1 (from tensorflow-data-validation<2.0.0,>=1.5.0->model-card-toolkit)\n",
            "  Downloading tfx_bsl-1.15.1-cp311-cp311-manylinux_2_17_x86_64.manylinux2014_x86_64.whl.metadata (11 kB)\n",
            "Collecting six (from absl-py<1.1,>=0.9->model-card-toolkit)\n",
            "  Downloading six-1.17.0-py2.py3-none-any.whl.metadata (1.7 kB)\n",
            "  Downloading six-1.16.0-py2.py3-none-any.whl.metadata (1.8 kB)\n",
            "  Downloading six-1.15.0-py2.py3-none-any.whl.metadata (1.8 kB)\n",
            "  Downloading six-1.14.0-py2.py3-none-any.whl.metadata (1.8 kB)\n",
            "  Downloading six-1.13.0-py2.py3-none-any.whl.metadata (1.9 kB)\n",
            "  Downloading six-1.12.0-py2.py3-none-any.whl.metadata (1.9 kB)\n",
            "  Downloading six-1.11.0-py2.py3-none-any.whl.metadata (1.6 kB)\n",
            "INFO: pip is looking at multiple versions of tensorflow-data-validation to determine which version is compatible with other requirements. This could take a while.\n",
            "Collecting protobuf<5,>=4.25.2 (from ml-metadata<2.0.0,>=1.5.0->model-card-toolkit)\n",
            "  Downloading protobuf-4.25.7-cp37-abi3-manylinux2014_x86_64.whl.metadata (541 bytes)\n",
            "  Downloading protobuf-4.25.6-cp37-abi3-manylinux2014_x86_64.whl.metadata (541 bytes)\n",
            "  Downloading protobuf-4.25.5-cp37-abi3-manylinux2014_x86_64.whl.metadata (541 bytes)\n",
            "  Downloading protobuf-4.25.4-cp37-abi3-manylinux2014_x86_64.whl.metadata (541 bytes)\n",
            "  Downloading protobuf-4.25.3-cp37-abi3-manylinux2014_x86_64.whl.metadata (541 bytes)\n",
            "  Downloading protobuf-4.25.2-cp37-abi3-manylinux2014_x86_64.whl.metadata (541 bytes)\n",
            "INFO: pip is still looking at multiple versions of tensorflow-data-validation to determine which version is compatible with other requirements. This could take a while.\n",
            "INFO: This is taking longer than usual. You might need to provide the dependency resolver with stricter constraints to reduce runtime. See https://pip.pypa.io/warnings/backtracking for guidance. If you want to abort this run, press Ctrl + C.\n",
            "Collecting grpcio<2,>=1.8.6 (from ml-metadata<2.0.0,>=1.5.0->model-card-toolkit)\n",
            "  Downloading grpcio-1.73.0-cp311-cp311-manylinux_2_17_x86_64.manylinux2014_x86_64.whl.metadata (3.8 kB)\n",
            "  Downloading grpcio-1.72.1-cp311-cp311-manylinux_2_17_x86_64.manylinux2014_x86_64.whl.metadata (3.8 kB)\n",
            "  Downloading grpcio-1.71.0-cp311-cp311-manylinux_2_17_x86_64.manylinux2014_x86_64.whl.metadata (3.8 kB)\n",
            "  Downloading grpcio-1.70.0-cp311-cp311-manylinux_2_17_x86_64.manylinux2014_x86_64.whl.metadata (3.9 kB)\n",
            "  Downloading grpcio-1.69.0-cp311-cp311-manylinux_2_17_x86_64.manylinux2014_x86_64.whl.metadata (3.9 kB)\n",
            "  Downloading grpcio-1.68.1-cp311-cp311-manylinux_2_17_x86_64.manylinux2014_x86_64.whl.metadata (3.9 kB)\n",
            "  Downloading grpcio-1.68.0-cp311-cp311-manylinux_2_17_x86_64.manylinux2014_x86_64.whl.metadata (3.9 kB)\n",
            "  Downloading grpcio-1.67.1-cp311-cp311-manylinux_2_17_x86_64.manylinux2014_x86_64.whl.metadata (3.9 kB)\n",
            "  Downloading grpcio-1.67.0-cp311-cp311-manylinux_2_17_x86_64.manylinux2014_x86_64.whl.metadata (3.9 kB)\n",
            "  Downloading grpcio-1.66.2-cp311-cp311-manylinux_2_17_x86_64.manylinux2014_x86_64.whl.metadata (3.9 kB)\n",
            "  Downloading grpcio-1.66.1-cp311-cp311-manylinux_2_17_x86_64.manylinux2014_x86_64.whl.metadata (3.9 kB)\n",
            "  Downloading grpcio-1.66.0-cp311-cp311-manylinux_2_17_x86_64.manylinux2014_x86_64.whl.metadata (3.9 kB)\n",
            "  Downloading grpcio-1.65.4-cp311-cp311-manylinux_2_17_x86_64.manylinux2014_x86_64.whl.metadata (3.3 kB)\n",
            "  Downloading grpcio-1.65.2-cp311-cp311-manylinux_2_17_x86_64.manylinux2014_x86_64.whl.metadata (3.3 kB)\n",
            "  Downloading grpcio-1.65.1-cp311-cp311-manylinux_2_17_x86_64.manylinux2014_x86_64.whl.metadata (3.3 kB)\n",
            "  Downloading grpcio-1.64.3-cp311-cp311-manylinux_2_17_x86_64.manylinux2014_x86_64.whl.metadata (3.3 kB)\n",
            "  Downloading grpcio-1.64.1-cp311-cp311-manylinux_2_17_x86_64.manylinux2014_x86_64.whl.metadata (3.3 kB)\n",
            "  Downloading grpcio-1.64.0-cp311-cp311-manylinux_2_17_x86_64.manylinux2014_x86_64.whl.metadata (3.3 kB)\n",
            "  Downloading grpcio-1.63.2-cp311-cp311-manylinux_2_17_x86_64.manylinux2014_x86_64.whl.metadata (3.2 kB)\n",
            "  Downloading grpcio-1.63.0-cp311-cp311-manylinux_2_17_x86_64.manylinux2014_x86_64.whl.metadata (3.2 kB)\n",
            "  Downloading grpcio-1.62.3-cp311-cp311-manylinux_2_17_x86_64.manylinux2014_x86_64.whl.metadata (4.0 kB)\n",
            "  Downloading grpcio-1.62.2-cp311-cp311-manylinux_2_17_x86_64.manylinux2014_x86_64.whl.metadata (4.0 kB)\n",
            "  Downloading grpcio-1.62.1-cp311-cp311-manylinux_2_17_x86_64.manylinux2014_x86_64.whl.metadata (4.0 kB)\n",
            "  Downloading grpcio-1.58.3-cp311-cp311-manylinux_2_17_x86_64.manylinux2014_x86_64.whl.metadata (4.0 kB)\n",
            "  Downloading grpcio-1.62.0-cp311-cp311-manylinux_2_17_x86_64.manylinux2014_x86_64.whl.metadata (4.0 kB)\n",
            "  Downloading grpcio-1.61.3-cp311-cp311-manylinux_2_17_x86_64.manylinux2014_x86_64.whl.metadata (4.0 kB)\n",
            "  Downloading grpcio-1.60.2-cp311-cp311-manylinux_2_17_x86_64.manylinux2014_x86_64.whl.metadata (4.0 kB)\n",
            "  Downloading grpcio-1.60.1-cp311-cp311-manylinux_2_17_x86_64.manylinux2014_x86_64.whl.metadata (4.0 kB)\n",
            "  Downloading grpcio-1.60.0-cp311-cp311-manylinux_2_17_x86_64.manylinux2014_x86_64.whl.metadata (4.0 kB)\n",
            "  Downloading grpcio-1.59.5-cp311-cp311-manylinux_2_17_x86_64.manylinux2014_x86_64.whl.metadata (4.0 kB)\n",
            "  Downloading grpcio-1.59.3-cp311-cp311-manylinux_2_17_x86_64.manylinux2014_x86_64.whl.metadata (4.0 kB)\n",
            "  Downloading grpcio-1.59.2-cp311-cp311-manylinux_2_17_x86_64.manylinux2014_x86_64.whl.metadata (4.0 kB)\n",
            "  Downloading grpcio-1.59.0-cp311-cp311-manylinux_2_17_x86_64.manylinux2014_x86_64.whl.metadata (4.0 kB)\n",
            "  Downloading grpcio-1.58.0-cp311-cp311-manylinux_2_17_x86_64.manylinux2014_x86_64.whl.metadata (4.0 kB)\n",
            "  Downloading grpcio-1.57.0-cp311-cp311-manylinux_2_17_x86_64.manylinux2014_x86_64.whl.metadata (4.0 kB)\n",
            "  Downloading grpcio-1.56.2-cp311-cp311-manylinux_2_17_x86_64.manylinux2014_x86_64.whl.metadata (4.0 kB)\n",
            "  Downloading grpcio-1.56.0-cp311-cp311-manylinux_2_17_x86_64.manylinux2014_x86_64.whl.metadata (4.0 kB)\n",
            "  Downloading grpcio-1.55.3-cp311-cp311-manylinux_2_17_x86_64.manylinux2014_x86_64.whl.metadata (4.0 kB)\n",
            "  Downloading grpcio-1.54.3-cp311-cp311-manylinux_2_17_x86_64.manylinux2014_x86_64.whl.metadata (4.0 kB)\n",
            "  Downloading grpcio-1.54.2-cp311-cp311-manylinux_2_17_x86_64.manylinux2014_x86_64.whl.metadata (4.0 kB)\n",
            "  Downloading grpcio-1.54.0-cp311-cp311-manylinux_2_17_x86_64.manylinux2014_x86_64.whl.metadata (4.0 kB)\n",
            "  Downloading grpcio-1.53.2-cp311-cp311-manylinux_2_17_x86_64.manylinux2014_x86_64.whl.metadata (3.8 kB)\n",
            "  Downloading grpcio-1.53.1-cp311-cp311-manylinux_2_17_x86_64.manylinux2014_x86_64.whl.metadata (3.8 kB)\n",
            "  Downloading grpcio-1.53.0-cp311-cp311-manylinux_2_17_x86_64.manylinux2014_x86_64.whl.metadata (3.8 kB)\n",
            "  Downloading grpcio-1.51.3-cp311-cp311-manylinux_2_17_x86_64.manylinux2014_x86_64.whl.metadata (3.8 kB)\n",
            "  Downloading grpcio-1.51.1-cp311-cp311-manylinux_2_17_x86_64.manylinux2014_x86_64.whl.metadata (3.8 kB)\n",
            "  Downloading grpcio-1.50.0-cp311-cp311-manylinux_2_17_x86_64.manylinux2014_x86_64.whl.metadata (3.9 kB)\n",
            "  Downloading grpcio-1.49.1-cp311-cp311-manylinux_2_17_x86_64.manylinux2014_x86_64.whl.metadata (3.9 kB)\n",
            "  Downloading grpcio-1.48.2.tar.gz (22.0 MB)\n",
            "\u001b[2K     \u001b[90m━━━━━━━━━━━━━━━━━━━━━━━━━━━━━━━━━━━━━━━\u001b[0m \u001b[32m22.0/22.0 MB\u001b[0m \u001b[31m126.5 MB/s\u001b[0m eta \u001b[36m0:00:00\u001b[0m\n",
            "\u001b[?25h  Preparing metadata (setup.py) ... \u001b[?25l\u001b[?25hdone\n",
            "  Downloading grpcio-1.48.1.tar.gz (22.0 MB)\n",
            "\u001b[2K     \u001b[90m━━━━━━━━━━━━━━━━━━━━━━━━━━━━━━━━━━━━━━━\u001b[0m \u001b[32m22.0/22.0 MB\u001b[0m \u001b[31m135.5 MB/s\u001b[0m eta \u001b[36m0:00:00\u001b[0m\n",
            "\u001b[?25h"
          ]
        }
      ],
      "source": [
        "!pip install --upgrade pip\n",
        "!pip install --upgrade seaborn 'scikit-learn>=0.22.0' model-card-toolkit"
      ]
    },
    {
      "cell_type": "markdown",
      "metadata": {
        "id": "JpcNkrmLiYj7"
      },
      "source": [
        "### Did you restart the runtime?\n",
        "\n",
        "If you are using Google Colab, the first time that you run the cell above, you must restart the runtime (Runtime > Restart runtime ...)."
      ]
    },
    {
      "cell_type": "markdown",
      "metadata": {
        "id": "YKbr6rJDC9bk"
      },
      "source": [
        "### Import packages\n",
        "\n",
        "We import necessary packages, including scikit-learn."
      ]
    },
    {
      "cell_type": "code",
      "execution_count": null,
      "metadata": {
        "id": "y25vFI3WiYj7"
      },
      "outputs": [],
      "source": [
        "from datetime import date\n",
        "from io import BytesIO\n",
        "from IPython import display\n",
        "import model_card_toolkit as mct\n",
        "from sklearn.datasets import load_breast_cancer\n",
        "from sklearn.ensemble import GradientBoostingClassifier\n",
        "from sklearn.model_selection import train_test_split\n",
        "from sklearn.metrics import ConfusionMatrixDisplay, RocCurveDisplay\n",
        "\n",
        "import base64\n",
        "import matplotlib.pyplot as plt\n",
        "import pandas as pd\n",
        "import seaborn as sns\n",
        "import uuid"
      ]
    },
    {
      "cell_type": "markdown",
      "metadata": {
        "id": "XVdpINibiYj-"
      },
      "source": [
        "## Load data\n",
        "\n",
        "This example uses the Breast Cancer Wisconsin Diagnostic dataset that scikit-learn can load using the [load_breast_cancer()](https://scikit-learn.org/stable/modules/generated/sklearn.datasets.load_breast_cancer.html) function."
      ]
    },
    {
      "cell_type": "code",
      "execution_count": null,
      "metadata": {
        "id": "aR6kzqPeiYj_"
      },
      "outputs": [],
      "source": [
        "cancer = load_breast_cancer()\n",
        "\n",
        "X = pd.DataFrame(cancer.data, columns=cancer.feature_names)\n",
        "y = pd.Series(cancer.target)\n",
        "\n",
        "X_train, X_test, y_train, y_test = train_test_split(X, y)"
      ]
    },
    {
      "cell_type": "code",
      "execution_count": null,
      "metadata": {
        "id": "DwjxhVtTiYkB"
      },
      "outputs": [],
      "source": [
        "X_train.head()"
      ]
    },
    {
      "cell_type": "code",
      "execution_count": null,
      "metadata": {
        "id": "fCOK-1gyiYkE"
      },
      "outputs": [],
      "source": [
        "y_train.head()"
      ]
    },
    {
      "cell_type": "markdown",
      "metadata": {
        "id": "KmOnApwWiYkG"
      },
      "source": [
        "## Plot data\n",
        "\n",
        "We will create several plots from the data that we will include in the model card."
      ]
    },
    {
      "cell_type": "code",
      "execution_count": null,
      "metadata": {
        "id": "O9n6rAV7iYkG"
      },
      "outputs": [],
      "source": [
        "# Utility function that will export a plot to a base-64 encoded string that the model card will accept.\n",
        "\n",
        "def plot_to_str():\n",
        "    img = BytesIO()\n",
        "    plt.savefig(img, format='png')\n",
        "    return base64.encodebytes(img.getvalue()).decode('utf-8')"
      ]
    },
    {
      "cell_type": "code",
      "execution_count": null,
      "metadata": {
        "id": "lpZLJG3hiYkI"
      },
      "outputs": [],
      "source": [
        "# Plot the mean radius feature for both the train and test sets\n",
        "\n",
        "sns.displot(x=X_train['mean radius'], hue=y_train)\n",
        "mean_radius_train = plot_to_str()\n",
        "\n",
        "sns.displot(x=X_test['mean radius'], hue=y_test)\n",
        "mean_radius_test = plot_to_str()"
      ]
    },
    {
      "cell_type": "code",
      "execution_count": null,
      "metadata": {
        "id": "sFenUqQPiYkK"
      },
      "outputs": [],
      "source": [
        "# Plot the mean texture feature for both the train and test sets\n",
        "\n",
        "sns.displot(x=X_train['mean texture'], hue=y_train)\n",
        "mean_texture_train = plot_to_str()\n",
        "\n",
        "sns.displot(x=X_test['mean texture'], hue=y_test)\n",
        "mean_texture_test = plot_to_str()"
      ]
    },
    {
      "cell_type": "markdown",
      "metadata": {
        "id": "hA7QthuhiYkM"
      },
      "source": [
        "## Train model"
      ]
    },
    {
      "cell_type": "code",
      "execution_count": null,
      "metadata": {
        "id": "8VkTo7BxiYkN"
      },
      "outputs": [],
      "source": [
        "# Create a classifier and fit the training data\n",
        "\n",
        "clf = GradientBoostingClassifier().fit(X_train, y_train)"
      ]
    },
    {
      "cell_type": "markdown",
      "metadata": {
        "id": "7fo-7XlIiYkP"
      },
      "source": [
        "## Evaluate model"
      ]
    },
    {
      "cell_type": "code",
      "execution_count": null,
      "metadata": {
        "id": "_vEWAT2OiYkP"
      },
      "outputs": [],
      "source": [
        "# Plot a ROC curve\n",
        "\n",
        "RocCurveDisplay.from_estimator(clf, X_test, y_test)\n",
        "roc_curve = plot_to_str()"
      ]
    },
    {
      "cell_type": "code",
      "execution_count": null,
      "metadata": {
        "id": "QiNgUZKxiYkR"
      },
      "outputs": [],
      "source": [
        "# Plot a confusion matrix\n",
        "\n",
        "ConfusionMatrixDisplay.from_estimator(clf, X_test, y_test)\n",
        "confusion_matrix = plot_to_str()"
      ]
    },
    {
      "cell_type": "markdown",
      "metadata": {
        "id": "gN48E4y-iYkT"
      },
      "source": [
        "## Create a model card"
      ]
    },
    {
      "cell_type": "markdown",
      "metadata": {
        "id": "CBdRuxURiYkT"
      },
      "source": [
        "### Initialize toolkit and model card"
      ]
    },
    {
      "cell_type": "code",
      "execution_count": null,
      "metadata": {
        "id": "CI9ganKQiYkT"
      },
      "outputs": [],
      "source": [
        "toolkit = mct.ModelCardToolkit()\n",
        "\n",
        "model_card = toolkit.scaffold_assets()"
      ]
    },
    {
      "cell_type": "markdown",
      "metadata": {
        "id": "CERQtrHWiYkV"
      },
      "source": [
        "### Annotate information into model card"
      ]
    },
    {
      "cell_type": "code",
      "execution_count": null,
      "metadata": {
        "id": "TLzNJ_kriYkV"
      },
      "outputs": [],
      "source": [
        "model_card.model_details.name = 'Breast Cancer Wisconsin (Diagnostic) Dataset'\n",
        "model_card.model_details.overview = (\n",
        "    'This model predicts whether breast cancer is benign or malignant based on '\n",
        "    'image measurements.')\n",
        "model_card.model_details.owners = [\n",
        "    mct.Owner(name= 'Model Cards Team', contact='model-cards@google.com')\n",
        "]\n",
        "model_card.model_details.references = [\n",
        "    mct.Reference(reference='https://archive.ics.uci.edu/ml/datasets/Breast+Cancer+Wisconsin+(Diagnostic)'),\n",
        "    mct.Reference(reference='https://minds.wisconsin.edu/bitstream/handle/1793/59692/TR1131.pdf')\n",
        "]\n",
        "model_card.model_details.version.name = str(uuid.uuid4())\n",
        "model_card.model_details.version.date = str(date.today())\n",
        "\n",
        "model_card.considerations.ethical_considerations = [mct.Risk(\n",
        "    name=('Manual selection of image sections to digitize could create '\n",
        "            'selection bias'),\n",
        "    mitigation_strategy='Automate the selection process'\n",
        ")]\n",
        "model_card.considerations.limitations = [mct.Limitation(description='Breast cancer diagnosis')]\n",
        "model_card.considerations.use_cases = [mct.UseCase(description='Breast cancer diagnosis')]\n",
        "model_card.considerations.users = [mct.User(description='Medical professionals'), mct.User(description='ML researchers')]\n",
        "\n",
        "model_card.model_parameters.data.append(mct.Dataset())\n",
        "model_card.model_parameters.data[0].graphics.description = (\n",
        "  f'{len(X_train)} rows with {len(X_train.columns)} features')\n",
        "model_card.model_parameters.data[0].graphics.collection = [\n",
        "    mct.Graphic(image=mean_radius_train),\n",
        "    mct.Graphic(image=mean_texture_train)\n",
        "]\n",
        "model_card.model_parameters.data.append(mct.Dataset())\n",
        "model_card.model_parameters.data[1].graphics.description = (\n",
        "  f'{len(X_test)} rows with {len(X_test.columns)} features')\n",
        "model_card.model_parameters.data[1].graphics.collection = [\n",
        "    mct.Graphic(image=mean_radius_test),\n",
        "    mct.Graphic(image=mean_texture_test)\n",
        "]\n",
        "model_card.quantitative_analysis.graphics.description = (\n",
        "  'ROC curve and confusion matrix')\n",
        "model_card.quantitative_analysis.graphics.collection = [\n",
        "    mct.Graphic(image=roc_curve),\n",
        "    mct.Graphic(image=confusion_matrix)\n",
        "]\n",
        "\n",
        "toolkit.update_model_card(model_card)"
      ]
    },
    {
      "cell_type": "markdown",
      "metadata": {
        "id": "TBqFqMHEiYkX"
      },
      "source": [
        "## Generate model card"
      ]
    },
    {
      "cell_type": "code",
      "execution_count": null,
      "metadata": {
        "id": "XUEG7n7ciYkY"
      },
      "outputs": [],
      "source": [
        "# Return the model card document as an HTML page\n",
        "\n",
        "html = toolkit.export_format()\n",
        "\n",
        "display.display(display.HTML(html))"
      ]
    }
  ],
  "metadata": {
    "colab": {
      "name": "Scikit_Learn_Model_Card_Toolkit_Demo.ipynb",
      "provenance": [],
      "toc_visible": true,
      "include_colab_link": true
    },
    "environment": {
      "name": "common-cpu.m56",
      "type": "gcloud",
      "uri": "gcr.io/deeplearning-platform-release/base-cpu:m56"
    },
    "kernelspec": {
      "display_name": "Python 3",
      "language": "python",
      "name": "python3"
    },
    "language_info": {
      "codemirror_mode": {
        "name": "ipython",
        "version": 3
      },
      "file_extension": ".py",
      "mimetype": "text/x-python",
      "name": "python",
      "nbconvert_exporter": "python",
      "pygments_lexer": "ipython3",
      "version": "3.7.8"
    }
  },
  "nbformat": 4,
  "nbformat_minor": 0
}